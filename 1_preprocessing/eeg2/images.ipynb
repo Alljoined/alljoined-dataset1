{
 "cells": [
  {
   "cell_type": "markdown",
   "metadata": {},
   "source": [
    "This notebook will create the subset of images used in train and test, from NSD saved as pickle files."
   ]
  },
  {
   "cell_type": "code",
   "execution_count": 17,
   "metadata": {},
   "outputs": [],
   "source": [
    "import csv\n",
    "from scipy.io import loadmat\n",
    "import numpy as np\n",
    "import os"
   ]
  },
  {
   "cell_type": "code",
   "execution_count": 21,
   "metadata": {},
   "outputs": [],
   "source": [
    "DSET_PATH = \"/srv/eeg_reconstruction/shared/biosemi-dataset/eeg2\""
   ]
  },
  {
   "cell_type": "code",
   "execution_count": 13,
   "metadata": {},
   "outputs": [],
   "source": [
    "def load_csv_to_list(csv_filepath):\n",
    "    \"\"\"\n",
    "    Reads a CSV file and converts it into a list of tuples.\n",
    "\n",
    "    Parameters:\n",
    "    - csv_filepath: Path to the CSV file.\n",
    "\n",
    "    Returns:\n",
    "    - A list of tuples, where each tuple contains [image number, cocoId].\n",
    "    \"\"\"\n",
    "    data = []\n",
    "    with open(csv_filepath, mode='r', encoding='utf-8') as csvfile:\n",
    "        reader = csv.reader(csvfile)\n",
    "        next(reader, None)\n",
    "        for idx, row in enumerate(reader):\n",
    "            # Convert the first, second columns to int \n",
    "            if row[0] == '':\n",
    "                print(f\"Row index: {idx} is blank\")\n",
    "                continue\n",
    "            else:\n",
    "                data.append((int(row[0]), int(row[1])))\n",
    "    return data\n",
    "\n",
    "\n",
    "def get_coco_id(csv_data, index):\n",
    "    \"\"\"\n",
    "    Returns the COCO ID for a given index from CSV data.\n",
    "\n",
    "    Parameters:\n",
    "    - csv_data: A list of tuples/lists where each tuple/list contains [image number, cocoId].\n",
    "    - index: The 0-based image number to find the COCO ID for.\n",
    "\n",
    "    Returns:\n",
    "    - The COCO ID corresponding to the given index.\n",
    "    \"\"\"\n",
    "    for row in csv_data:\n",
    "        if row[0] == index:\n",
    "            return row[1]\n",
    "    return None  # Return None if the index is not found\n",
    "\n",
    "# Load conversion CSV data and .mat contents outside the loop to avoid reloading for each file\n",
    "conversion_csv_filepath = '../final_dataset/nsd_coco_conversion.csv'  \n",
    "conversion_csv_data = load_csv_to_list(conversion_csv_filepath)\n",
    "\n",
    "nsd_mat_file_path = '../final_dataset/nsd_expdesign.mat'\n",
    "nsd_mat_contents = loadmat(nsd_mat_file_path)\n",
    "nsd_indices = nsd_mat_contents[\"sharedix\"][0] # We look at the shared 1000 images since we only looked at the shared1000\n",
    "nsd_indices = nsd_indices - 1 # NSD Indices count from 1"
   ]
  },
  {
   "cell_type": "code",
   "execution_count": 18,
   "metadata": {},
   "outputs": [],
   "source": [
    "coco_indices = np.array([get_coco_id(conversion_csv_data, nsd_id) for nsd_id in nsd_indices])"
   ]
  },
  {
   "cell_type": "code",
   "execution_count": 22,
   "metadata": {},
   "outputs": [],
   "source": [
    "np.save(os.path.join(DSET_PATH, \"shared1000_indices.npy\"), coco_indices)"
   ]
  }
 ],
 "metadata": {
  "kernelspec": {
   "display_name": "Python 3",
   "language": "python",
   "name": "python3"
  },
  "language_info": {
   "codemirror_mode": {
    "name": "ipython",
    "version": 3
   },
   "file_extension": ".py",
   "mimetype": "text/x-python",
   "name": "python",
   "nbconvert_exporter": "python",
   "pygments_lexer": "ipython3",
   "version": "3.10.14"
  }
 },
 "nbformat": 4,
 "nbformat_minor": 2
}
