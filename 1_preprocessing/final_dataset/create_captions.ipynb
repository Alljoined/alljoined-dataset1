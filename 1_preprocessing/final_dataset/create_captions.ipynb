{
 "cells": [
  {
   "cell_type": "markdown",
   "metadata": {},
   "source": [
    "This notebook downloads captions corresponding to the 73k images. It queries them by coco id, and then stores them in an hdf5 array."
   ]
  },
  {
   "cell_type": "code",
   "execution_count": 1,
   "metadata": {},
   "outputs": [],
   "source": [
    "import json\n",
    "\n",
    "TRAIN_CAPTIONS_DIR = \"/srv/eeg_reconstruction/shared/coco/captions_train2017.json\"\n",
    "VAL_CAPTIONS_DIR = \"/srv/eeg_reconstruction/shared/coco/captions_val2017.json\""
   ]
  },
  {
   "cell_type": "code",
   "execution_count": 2,
   "metadata": {},
   "outputs": [],
   "source": [
    "with open(TRAIN_CAPTIONS_DIR, 'r') as file:\n",
    "    captions_train2017 = json.load(file)['annotations']\n",
    "\n",
    "with open(VAL_CAPTIONS_DIR, 'r') as file:\n",
    "    captions_val2017 = json.load(file)['annotations']"
   ]
  },
  {
   "cell_type": "code",
   "execution_count": 6,
   "metadata": {},
   "outputs": [],
   "source": [
    "def find_captions(image_id, coco_split):\n",
    "    if coco_split == 'train2017':\n",
    "        caption_list = captions_train2017\n",
    "    elif coco_split == 'val2017':\n",
    "        caption_list = captions_val2017\n",
    "    else:\n",
    "        return None\n",
    "\n",
    "    captions = [caption['caption'] for caption in caption_list if caption['image_id'] == int(image_id)]\n",
    "    return captions"
   ]
  },
  {
   "cell_type": "code",
   "execution_count": 7,
   "metadata": {},
   "outputs": [
    {
     "data": {
      "text/plain": [
       "['A bicycle replica with a clock as the front wheel.',\n",
       " 'The bike has a clock as a tire.',\n",
       " 'A black metal bicycle with a clock inside the front wheel.',\n",
       " 'A bicycle figurine in which the front wheel is replaced with a clock\\n',\n",
       " 'A clock with the appearance of the wheel of a bicycle ']"
      ]
     },
     "execution_count": 7,
     "metadata": {},
     "output_type": "execute_result"
    }
   ],
   "source": [
    "find_captions(203564, \"train2017\")"
   ]
  },
  {
   "cell_type": "code",
   "execution_count": 8,
   "metadata": {},
   "outputs": [],
   "source": [
    "import pandas as pd\n",
    "\n",
    "NSD_COCO_MAP_DIR = \"/srv/eeg_reconstruction/shared/natural_scenes_dataset/nsd_stim_info_merged.pkl\"\n",
    "\n",
    "data = pd.read_pickle(NSD_COCO_MAP_DIR)\n"
   ]
  },
  {
   "cell_type": "code",
   "execution_count": 15,
   "metadata": {},
   "outputs": [
    {
     "name": "stderr",
     "output_type": "stream",
     "text": [
      "100%|██████████| 73000/73000 [34:08<00:00, 35.64it/s]  \n"
     ]
    }
   ],
   "source": [
    "from tqdm import tqdm\n",
    "\n",
    "captions = []\n",
    "\n",
    "for index, row in tqdm(data.iterrows(), total=data.shape[0]):\n",
    "    captions.append(find_captions(row[\"cocoId\"], row[\"cocoSplit\"]))\n"
   ]
  },
  {
   "cell_type": "code",
   "execution_count": 16,
   "metadata": {},
   "outputs": [],
   "source": [
    "import pickle\n",
    "\n",
    "OUTPUT_PATH = \"/srv/eeg_reconstruction/shared/biosemi-dataset/captions.pkl\"\n",
    "with open(OUTPUT_PATH, 'wb') as file:\n",
    "    pickle.dump(captions, file)"
   ]
  },
  {
   "cell_type": "code",
   "execution_count": 19,
   "metadata": {},
   "outputs": [
    {
     "name": "stdout",
     "output_type": "stream",
     "text": [
      "['Potted plants lined up including a toilet bowl full of flowers', 'Someone has planted some plants in a toilet.', 'Geraniums and petunias in containers, including a toilet.', 'A white toilet sitting in the middle of potted flowers.', 'some potted plants and a white toilet is also used as one']\n"
     ]
    }
   ],
   "source": [
    "# Verify\n",
    "with open(OUTPUT_PATH, 'rb') as file:\n",
    "    test_captions = pickle.load(file)\n",
    "\n",
    "print(test_captions[72996])"
   ]
  },
  {
   "cell_type": "code",
   "execution_count": null,
   "metadata": {},
   "outputs": [],
   "source": []
  }
 ],
 "metadata": {
  "kernelspec": {
   "display_name": "Python 3",
   "language": "python",
   "name": "python3"
  },
  "language_info": {
   "codemirror_mode": {
    "name": "ipython",
    "version": 3
   },
   "file_extension": ".py",
   "mimetype": "text/x-python",
   "name": "python",
   "nbconvert_exporter": "python",
   "pygments_lexer": "ipython3",
   "version": "3.10.14"
  }
 },
 "nbformat": 4,
 "nbformat_minor": 2
}
