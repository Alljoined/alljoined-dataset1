{
 "cells": [
  {
   "cell_type": "code",
   "execution_count": 46,
   "metadata": {},
   "outputs": [],
   "source": [
    "# Simple t test on our dataset preprocessed in our way\n",
    "\n",
    "from datasets import load_dataset\n",
    "import matplotlib.pyplot as plt\n",
    "import numpy as np\n",
    "from scipy import stats \n",
    "\n",
    "dataset = load_dataset(\"Alljoined/05_125\", split=\"train\", cache_dir=\"/srv/eeg_reconstruction/shared\")"
   ]
  },
  {
   "cell_type": "code",
   "execution_count": 24,
   "metadata": {},
   "outputs": [],
   "source": [
    "coco_ids = dataset['coco_id']\n",
    "subject_ids = dataset['subject_id']"
   ]
  },
  {
   "cell_type": "code",
   "execution_count": 40,
   "metadata": {},
   "outputs": [],
   "source": [
    "def getSubDiff(subject = 1, firstImage = 268114, secondImage = 65029):\n",
    "    # load image 1\n",
    "    imageSet1Index = [i for i in list(range(len(coco_ids))) if coco_ids[i] == firstImage and subject_ids[i] == subject][0]\n",
    "    imageSet1 = dataset[imageSet1Index]\n",
    "\n",
    "    # load image 2\n",
    "    imageSet2Index = [i for i in list(range(len(coco_ids))) if coco_ids[i] == secondImage and subject_ids[i] == subject][0]\n",
    "    imageSet2 = dataset[imageSet2Index]\n",
    "\n",
    "    eeg1 = np.array(imageSet1[\"EEG\"])\n",
    "    eeg2 = np.array(imageSet2[\"EEG\"])\n",
    "\n",
    "    return eeg1-eeg2"
   ]
  },
  {
   "cell_type": "code",
   "execution_count": 41,
   "metadata": {},
   "outputs": [
    {
     "name": "stdout",
     "output_type": "stream",
     "text": [
      "[[495, 477], [121, 665], [7, 692], [710, 362], [448, 651], [576, 753], [160, 737], [212, 563], [509, 82], [537, 622], [43, 754], [315, 415], [151, 726], [161, 146], [717, 129], [679, 492], [504, 381], [99, 763], [397, 302], [216, 497], [301, 719], [492, 753], [719, 697], [719, 275], [99, 456], [18, 70], [122, 520], [684, 539], [200, 12], [148, 404], [585, 36], [33, 569], [693, 302], [642, 492], [413, 299], [648, 165], [720, 378], [565, 64], [103, 511], [106, 736], [287, 494], [431, 36], [622, 140], [609, 31], [349, 639], [220, 289], [584, 64], [304, 136], [755, 379], [480, 243], [303, 360], [392, 181], [240, 33], [230, 34], [54, 761], [640, 345], [324, 264], [681, 561], [689, 343], [654, 473], [217, 26], [285, 322], [103, 352], [343, 625], [424, 663], [178, 94], [714, 127], [556, 743], [187, 106], [96, 763], [74, 544], [747, 206], [331, 128], [44, 385], [17, 559], [357, 673], [417, 176], [522, 487], [89, 704], [382, 63], [708, 460], [587, 65], [452, 22], [673, 52], [312, 305], [77, 619], [246, 240], [141, 75], [410, 42], [77, 150], [28, 59], [689, 327], [463, 312], [41, 660], [617, 415], [554, 136], [300, 17], [302, 555], [12, 228], [442, 251]]\n"
     ]
    }
   ],
   "source": [
    "# randomly sample 1000 image pairs\n",
    "\n",
    "import random\n",
    "\n",
    "unique_coco_ids = list(set(coco_ids))\n",
    "numClasses = len(unique_coco_ids)\n",
    "image_pairs = []\n",
    "\n",
    "while len(image_pairs) < 100:\n",
    "    pair = random.sample(range(numClasses), 2)\n",
    "    image_pairs.append(pair)\n",
    "\n",
    "print(image_pairs)"
   ]
  },
  {
   "cell_type": "code",
   "execution_count": 43,
   "metadata": {},
   "outputs": [],
   "source": [
    "channels = ['Fp1', 'AF7', 'AF3', 'F1', 'F3', 'F5', 'F7', 'FT7', 'FC5', 'FC3', 'FC1', 'C1', 'C3', 'C5', 'T7', 'TP7', 'CP5', 'CP3', 'CP1', 'P1', 'P3', 'P5', 'P7', 'P9', 'PO7', 'PO3', 'O1', 'Iz', 'Oz', 'POz', 'Pz', 'CPz', 'Fpz', 'Fp2', 'AF8', 'AF4', 'AFz', 'Fz', 'F2', 'F4', 'F6', 'F8', 'FT8', 'FC6', 'FC4', 'FC2', 'FCz', 'Cz', 'C2', 'C4', 'C6', 'T8', 'TP8', 'CP6', 'CP4', 'CP2', 'P2', 'P4', 'P6', 'P8', 'P10', 'PO8', 'PO4', 'O2', 'Status']\n",
    "time_win = (.080, .140)\n",
    "electrodes = ('O1', 'O2', 'PO7', 'PO8', 'Pz', 'P3', 'P4')\n",
    "roi = [channels.index(e) for e in electrodes]"
   ]
  },
  {
   "cell_type": "code",
   "execution_count": 44,
   "metadata": {},
   "outputs": [
    {
     "name": "stdout",
     "output_type": "stream",
     "text": [
      "IMAGE IDS WITH P VAL: 0.994432961574302\n",
      "229233\n",
      "139561\n",
      "IMAGE IDS WITH P VAL: 0.990787726081278\n",
      "405437\n",
      "223718\n"
     ]
    }
   ],
   "source": [
    "tvals = []\n",
    "pvals = []\n",
    "\n",
    "subjects = list(range(1,9))\n",
    "\n",
    "for pair in image_pairs:\n",
    "    differences = np.array([getSubDiff(sub, unique_coco_ids[pair[0]], unique_coco_ids[pair[1]]) for sub in subjects])\n",
    "    #print(differences.shape) #(10, 63, 250)\n",
    "    y = differences[:, roi, int(time_win[0]*250) : int(time_win[1]*250)]\n",
    "    y = np.mean(y, axis=2)\n",
    "    #print(y.shape) #(10, 7)\n",
    "    t, pval = stats.ttest_1samp(y, 0)\n",
    "\n",
    "    tvals.append(round(t[0], 2))\n",
    "    pvals.append(round(pval[0], 4))\n",
    "\n",
    "    if (pval[0] > 0.99):\n",
    "        print('IMAGE IDS WITH P VAL: ' + str(pval[0]))\n",
    "        print(unique_coco_ids[pair[0]])\n",
    "        print(unique_coco_ids[pair[1]])\n"
   ]
  },
  {
   "cell_type": "code",
   "execution_count": 47,
   "metadata": {},
   "outputs": [
    {
     "data": {
      "image/png": "[encoded data removed]",
      "text/plain": [
       "<Figure size 640x480 with 1 Axes>"
      ]
     },
     "metadata": {},
     "output_type": "display_data"
    }
   ],
   "source": [
    "plt.hist(pvals, bins=100, color='blue', alpha=0.7)\n",
    "plt.title('Histogram of P-values')\n",
    "plt.xlabel('P-value')\n",
    "plt.ylabel('Frequency')\n",
    "plt.grid(True)\n",
    "plt.show()\n"
   ]
  },
  {
   "cell_type": "code",
   "execution_count": 20,
   "metadata": {},
   "outputs": [
    {
     "name": "stdout",
     "output_type": "stream",
     "text": [
      "Getting eeg data for 1\n",
      "Getting eeg data for 2\n",
      "Getting eeg data for 3\n",
      "Getting eeg data for 4\n",
      "Getting eeg data for 5\n",
      "Getting eeg data for 6\n",
      "Getting eeg data for 7\n",
      "Getting eeg data for 8\n"
     ]
    }
   ],
   "source": [
    "\n",
    "subjects = list(range(1,9))\n",
    "differences = np.array([getSubDiff(sub) for sub in subjects])"
   ]
  },
  {
   "cell_type": "code",
   "execution_count": 16,
   "metadata": {},
   "outputs": [
    {
     "data": {
      "text/plain": [
       "(8, 64, 334)"
      ]
     },
     "execution_count": 16,
     "metadata": {},
     "output_type": "execute_result"
    }
   ],
   "source": [
    "differences.shape"
   ]
  },
  {
   "cell_type": "code",
   "execution_count": 22,
   "metadata": {},
   "outputs": [
    {
     "name": "stdout",
     "output_type": "stream",
     "text": [
      "(8, 7, 31)\n",
      "(8, 7)\n"
     ]
    }
   ],
   "source": [
    "y = differences[:, roi, int(time_win[0]*512) : int(time_win[1]*512)]\n",
    "print(y.shape) #(7, 7, 31)\n",
    "y = np.mean(y, axis=2)\n",
    "print(y.shape) #(7, 7)\n",
    "t, pval = stats.ttest_1samp(y, 0)"
   ]
  },
  {
   "cell_type": "code",
   "execution_count": 23,
   "metadata": {},
   "outputs": [
    {
     "name": "stdout",
     "output_type": "stream",
     "text": [
      "0.1767\n"
     ]
    }
   ],
   "source": [
    "print(round(pval[0], 4))"
   ]
  },
  {
   "cell_type": "markdown",
   "metadata": {},
   "source": [
    "## Inter-subject test"
   ]
  },
  {
   "cell_type": "code",
   "execution_count": null,
   "metadata": {},
   "outputs": [],
   "source": []
  }
 ],
 "metadata": {
  "kernelspec": {
   "display_name": "Python 3",
   "language": "python",
   "name": "python3"
  },
  "language_info": {
   "codemirror_mode": {
    "name": "ipython",
    "version": 3
   },
   "file_extension": ".py",
   "mimetype": "text/x-python",
   "name": "python",
   "nbconvert_exporter": "python",
   "pygments_lexer": "ipython3",
   "version": "3.10.14"
  }
 },
 "nbformat": 4,
 "nbformat_minor": 2
}
